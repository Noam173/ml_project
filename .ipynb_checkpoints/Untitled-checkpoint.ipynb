{
 "cells": [
  {
   "cell_type": "code",
   "execution_count": 1,
   "id": "89f3fd70-4e92-4bef-987e-575685ea6a96",
   "metadata": {
    "execution": {
     "iopub.execute_input": "2025-04-05T04:29:19.271368Z",
     "iopub.status.busy": "2025-04-05T04:29:19.271138Z",
     "iopub.status.idle": "2025-04-05T04:29:20.661684Z",
     "shell.execute_reply": "2025-04-05T04:29:20.661469Z",
     "shell.execute_reply.started": "2025-04-05T04:29:19.271354Z"
    }
   },
   "outputs": [
    {
     "name": "stderr",
     "output_type": "stream",
     "text": [
      "2025-04-05 07:29:19.427612: I tensorflow/core/util/port.cc:153] oneDNN custom operations are on. You may see slightly different numerical results due to floating-point round-off errors from different computation orders. To turn them off, set the environment variable `TF_ENABLE_ONEDNN_OPTS=0`.\n",
      "2025-04-05 07:29:19.434711: E external/local_xla/xla/stream_executor/cuda/cuda_fft.cc:485] Unable to register cuFFT factory: Attempting to register factory for plugin cuFFT when one has already been registered\n",
      "2025-04-05 07:29:19.443245: E external/local_xla/xla/stream_executor/cuda/cuda_dnn.cc:8454] Unable to register cuDNN factory: Attempting to register factory for plugin cuDNN when one has already been registered\n",
      "2025-04-05 07:29:19.445972: E external/local_xla/xla/stream_executor/cuda/cuda_blas.cc:1452] Unable to register cuBLAS factory: Attempting to register factory for plugin cuBLAS when one has already been registered\n",
      "2025-04-05 07:29:19.452551: I tensorflow/core/platform/cpu_feature_guard.cc:210] This TensorFlow binary is optimized to use available CPU instructions in performance-critical operations.\n",
      "To enable the following instructions: SSE4.1 SSE4.2 AVX AVX2 AVX_VNNI FMA, in other operations, rebuild TensorFlow with the appropriate compiler flags.\n"
     ]
    }
   ],
   "source": [
    "import numpy as np\n",
    "import tensorflow as tf\n",
    "from sklearn.metrics import confusion_matrix"
   ]
  },
  {
   "cell_type": "code",
   "execution_count": 12,
   "id": "6364a929-012a-47c1-80d1-f18b69ac1048",
   "metadata": {
    "execution": {
     "iopub.execute_input": "2025-04-05T04:31:10.131446Z",
     "iopub.status.busy": "2025-04-05T04:31:10.130865Z",
     "iopub.status.idle": "2025-04-05T04:31:10.137670Z",
     "shell.execute_reply": "2025-04-05T04:31:10.136839Z",
     "shell.execute_reply.started": "2025-04-05T04:31:10.131407Z"
    }
   },
   "outputs": [],
   "source": [
    "def con_matrix(dataset) -> None:\n",
    "    model = tf.keras.models.load_model(\"finished_model.keras\")\n",
    "    pred = []\n",
    "    labels = []\n",
    "    for x, y in dataset.rebatch(32 * len(dataset)):\n",
    "        pred.append(model.predict(x).round())\n",
    "        labels.append(y)\n",
    "\n",
    "    labels = np.array(labels).flatten()\n",
    "    pred = np.array(pred).flatten()\n",
    "\n",
    "    return confusion_matrix(labels, pred)"
   ]
  },
  {
   "cell_type": "code",
   "execution_count": 9,
   "id": "c62a1c6c-ead9-464f-a5b6-6eb3f25f44be",
   "metadata": {
    "execution": {
     "iopub.execute_input": "2025-04-05T04:30:24.807934Z",
     "iopub.status.busy": "2025-04-05T04:30:24.806898Z",
     "iopub.status.idle": "2025-04-05T04:30:24.813904Z",
     "shell.execute_reply": "2025-04-05T04:30:24.813105Z",
     "shell.execute_reply.started": "2025-04-05T04:30:24.807898Z"
    }
   },
   "outputs": [],
   "source": [
    "def preprocess_data(classes_path: str) -> None:\n",
    "    data = tf.keras.utils.image_dataset_from_directory(\n",
    "        classes_path, shuffle=True, seed=42, image_size=(224, 224)\n",
    "    ).map(lambda x, y: (x / 255.0, y))\n",
    "\n",
    "    size = len(data)\n",
    "\n",
    "    train_size = round(size * 0.7)\n",
    "    val_size = round(size * 0.2)\n",
    "\n",
    "    test = data.skip(train_size + val_size).prefetch(tf.data.AUTOTUNE)\n",
    "    return test"
   ]
  },
  {
   "cell_type": "code",
   "execution_count": 10,
   "id": "9a3c0d5a-473b-4b6b-942f-e48ed4962654",
   "metadata": {
    "execution": {
     "iopub.execute_input": "2025-04-05T04:30:27.096891Z",
     "iopub.status.busy": "2025-04-05T04:30:27.095801Z",
     "iopub.status.idle": "2025-04-05T04:30:27.876518Z",
     "shell.execute_reply": "2025-04-05T04:30:27.876294Z",
     "shell.execute_reply.started": "2025-04-05T04:30:27.096855Z"
    }
   },
   "outputs": [
    {
     "name": "stdout",
     "output_type": "stream",
     "text": [
      "Found 79950 files belonging to 2 classes.\n"
     ]
    }
   ],
   "source": [
    "test = preprocess_data(\"classes/\")"
   ]
  },
  {
   "cell_type": "code",
   "execution_count": 11,
   "id": "fb5bbb0b-2762-4317-874c-5b7bb9d4151c",
   "metadata": {
    "execution": {
     "iopub.execute_input": "2025-04-05T04:30:31.475954Z",
     "iopub.status.busy": "2025-04-05T04:30:31.475803Z",
     "iopub.status.idle": "2025-04-05T04:30:54.250065Z",
     "shell.execute_reply": "2025-04-05T04:30:54.249867Z",
     "shell.execute_reply.started": "2025-04-05T04:30:31.475946Z"
    }
   },
   "outputs": [
    {
     "name": "stderr",
     "output_type": "stream",
     "text": [
      "2025-04-05 07:30:49.517045: W tensorflow/core/kernels/data/prefetch_autotuner.cc:52] Prefetch autotuner tried to allocate 4806089912 bytes after encountering the first element of size 4806089912 bytes.This already causes the autotune ram budget to be exceeded. To stay within the ram budget, either increase the ram budget or reduce element size\n"
     ]
    },
    {
     "name": "stdout",
     "output_type": "stream",
     "text": [
      "\u001b[1m250/250\u001b[0m \u001b[32m━━━━━━━━━━━━━━━━━━━━\u001b[0m\u001b[37m\u001b[0m \u001b[1m4s\u001b[0m 16ms/step\n"
     ]
    },
    {
     "name": "stderr",
     "output_type": "stream",
     "text": [
      "2025-04-05 07:30:54.236557: I tensorflow/core/framework/local_rendezvous.cc:404] Local rendezvous is aborting with status: OUT_OF_RANGE: End of sequence\n"
     ]
    },
    {
     "data": {
      "text/plain": [
       "array([[4084,   31],\n",
       "       [  35, 3832]])"
      ]
     },
     "execution_count": 11,
     "metadata": {},
     "output_type": "execute_result"
    }
   ],
   "source": [
    "con_matrix(test)"
   ]
  },
  {
   "cell_type": "code",
   "execution_count": 13,
   "id": "0ea5797a-4464-4df9-81c0-ce30b21e0a75",
   "metadata": {
    "execution": {
     "iopub.execute_input": "2025-04-05T04:31:15.766512Z",
     "iopub.status.busy": "2025-04-05T04:31:15.765368Z",
     "iopub.status.idle": "2025-04-05T04:31:36.521166Z",
     "shell.execute_reply": "2025-04-05T04:31:36.520931Z",
     "shell.execute_reply.started": "2025-04-05T04:31:15.766472Z"
    }
   },
   "outputs": [
    {
     "name": "stderr",
     "output_type": "stream",
     "text": [
      "2025-04-05 07:31:32.191143: W tensorflow/core/kernels/data/prefetch_autotuner.cc:52] Prefetch autotuner tried to allocate 4806089912 bytes after encountering the first element of size 4806089912 bytes.This already causes the autotune ram budget to be exceeded. To stay within the ram budget, either increase the ram budget or reduce element size\n"
     ]
    },
    {
     "name": "stdout",
     "output_type": "stream",
     "text": [
      "\u001b[1m250/250\u001b[0m \u001b[32m━━━━━━━━━━━━━━━━━━━━\u001b[0m\u001b[37m\u001b[0m \u001b[1m4s\u001b[0m 16ms/step\n"
     ]
    },
    {
     "data": {
      "text/plain": [
       "array([[4088,   31],\n",
       "       [  34, 3829]])"
      ]
     },
     "execution_count": 13,
     "metadata": {},
     "output_type": "execute_result"
    }
   ],
   "source": [
    "con_matrix(test)"
   ]
  }
 ],
 "metadata": {
  "kernelspec": {
   "display_name": "Python 3 (ipykernel)",
   "language": "python",
   "name": "python3"
  },
  "language_info": {
   "codemirror_mode": {
    "name": "ipython",
    "version": 3
   },
   "file_extension": ".py",
   "mimetype": "text/x-python",
   "name": "python",
   "nbconvert_exporter": "python",
   "pygments_lexer": "ipython3",
   "version": "3.12.9"
  }
 },
 "nbformat": 4,
 "nbformat_minor": 5
}
